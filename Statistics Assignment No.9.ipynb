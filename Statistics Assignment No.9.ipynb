{
 "cells": [
  {
   "cell_type": "markdown",
   "id": "53bfe1b1",
   "metadata": {},
   "source": [
    "1) You are going to play 2 games of chess with an opponent whom you have never played against before (for the sake of this    problem). Your opponent is equally likely to be a beginner, intermediate, or a master. Depending on\n",
    "  (a) What is your probability of winning the first game?\n",
    "  (b) Congratulations: you won the first game! Given this information, what is the probability that you will also win the second game\n",
    "  (c) Explain the distinction between assuming that the outcomes of the games are independent and assuming that they are conditionally independent given the opponent’s skill level. Which of these assumptions seems more reasonable, and why?"
   ]
  },
  {
   "cell_type": "code",
   "execution_count": null,
   "id": "c6234e07",
   "metadata": {},
   "outputs": [],
   "source": [
    "a)\n",
    ":- \n",
    "This seems like a straightforward problem in conditional probability. Let W1 be the event of winning the first game, \n",
    "W2 be the event of winning the second game, and Fb,Fi,Fm be the events of facing a beginner, an intermediate player, and a master.\n",
    "\n",
    "We are given the unconditional probabilities P(Fb)=P(Fi)=P(Fm)=13, and the conditional probabilities\n",
    "\n",
    "P(W1∣Fb)=P(W2∣Fb)=910\n",
    "P(W1∣Fi)=P(W2∣Fi)=510\n",
    "P(W1∣Fm)=P(W2∣Fm)=310\n",
    "\n",
    "We are asked to find P(W2∣W1). You have already observed that P(W1)=1730. From Bayes's theorem, we can write\n",
    "\n",
    "P(Fb∣W1)=P(W1∣Fb)P(Fb)P(W1)=917\n",
    "P(Fi∣W1)=P(W1∣Fi)P(Fi)P(W1)=517\n",
    "P(Fm∣W1)=P(W1∣Fm)P(Fm)P(W1)=317\n",
    "\n",
    "By total probability, we have\n",
    "\n",
    "P(W2∣W1)=P(W2∣W1,Fb)P(W1∣Fb)+P(W2∣W1,Fi)P(W1∣Fi)+P(W2∣W1,Fm)P(W1∣Fm)\n",
    "\n",
    "Because W1 and W2 are conditionally independent, given the same opponent, we can rewrite this as\n",
    "\n",
    "P(W2∣W1)=P(W2∣Fb)P(W1∣Fb)+P(W2∣Fi)P(W1∣Fi)+P(W2∣Fm)P(W1∣Fm)=910×917+510×517+310×317=115/170=23/34\n",
    "\n",
    "P.S. I realize it's just a framing device, but I can't believe a single chess player could win 90 percent against a \n",
    "beginner, 50 percent against an intermediate player, and 30 percent against a master.\n",
    "\n",
    "\n",
    "b)probability of winning second given that you won first =?\n",
    ":-\n",
    "denote probability of winning 1st game by A\n",
    "denote probability of winning the 2nd game by B\n",
    "p(winning 2nd, given won 1st)=p(B∣A)=p(A∩B)p(A)\n",
    "since both games are independent: p(A∩B)=p(A)⋅p(B)\n",
    "thus p(B∣A)=p(B)=p(winning second time)\n"
   ]
  }
 ],
 "metadata": {
  "kernelspec": {
   "display_name": "Python 3 (ipykernel)",
   "language": "python",
   "name": "python3"
  },
  "language_info": {
   "codemirror_mode": {
    "name": "ipython",
    "version": 3
   },
   "file_extension": ".py",
   "mimetype": "text/x-python",
   "name": "python",
   "nbconvert_exporter": "python",
   "pygments_lexer": "ipython3",
   "version": "3.9.7"
  }
 },
 "nbformat": 4,
 "nbformat_minor": 5
}
